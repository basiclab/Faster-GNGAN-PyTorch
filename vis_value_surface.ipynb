{
 "cells": [
  {
   "cell_type": "code",
   "execution_count": 2,
   "metadata": {},
   "outputs": [],
   "source": [
    "%matplotlib inline\n",
    "import random\n",
    "\n",
    "import torch\n",
    "import torch.nn as nn\n",
    "import torch.nn.functional as F\n",
    "import matplotlib.pyplot as plt\n",
    "import numpy as np\n",
    "from scipy.stats import multivariate_normal\n",
    "from tqdm import trange\n",
    "\n",
    "np.random.seed(2)"
   ]
  },
  {
   "cell_type": "code",
   "execution_count": 3,
   "metadata": {},
   "outputs": [],
   "source": [
    "def set_seed(seed):\n",
    "    random.seed(seed)\n",
    "    np.random.seed(seed)\n",
    "    torch.manual_seed(seed)\n",
    "    torch.cuda.manual_seed(seed)\n",
    "    torch.backends.cudnn.deterministic = True\n",
    "    torch.backends.cudnn.benchmark = False"
   ]
  },
  {
   "cell_type": "code",
   "execution_count": 4,
   "metadata": {},
   "outputs": [],
   "source": [
    "class GradNorm(nn.Module):\n",
    "    def __init__(self, *modules):\n",
    "        super(GradNorm, self).__init__()\n",
    "        self.main = nn.Sequential(*modules)\n",
    "\n",
    "    def forward(self, x):\n",
    "        with torch.set_grad_enabled(True):\n",
    "            x.requires_grad_(True)\n",
    "            fx = self.main(x)\n",
    "            grad_x = torch.autograd.grad(\n",
    "                fx, x, torch.ones_like(fx), create_graph=True,\n",
    "                retain_graph=True)[0]\n",
    "            grad_norm = torch.norm(grad_x.view(grad_x.size(0), -1), dim=1)\n",
    "            grad_norm = grad_norm.view(-1, *[1 for _ in range(len(fx.shape) - 1)])\n",
    "            fx = (fx / (grad_norm + torch.abs(fx)))\n",
    "        return fx\n",
    "\n",
    "class MLP(nn.Module):\n",
    "    def __init__(self):\n",
    "        super().__init__()\n",
    "        self.main = nn.Sequential(\n",
    "            nn.Linear(2, 64),\n",
    "            nn.ReLU(),\n",
    "            nn.Linear(64, 1),\n",
    "        )\n",
    "    \n",
    "    def forward(self, x):\n",
    "        return self.main(x)\n",
    "\n",
    "\n",
    "class SNMLP(nn.Module):\n",
    "    def __init__(self):\n",
    "        super().__init__()\n",
    "        self.main = nn.Sequential(\n",
    "            torch.nn.utils.spectral_norm(nn.Linear(2, 64)),\n",
    "            nn.ReLU(),\n",
    "            torch.nn.utils.spectral_norm(nn.Linear(64, 1)),\n",
    "        )\n",
    "    \n",
    "    def forward(self, x):\n",
    "        return self.main(x)\n",
    "\n",
    "    \n",
    "class GNMLP(nn.Module):\n",
    "    def __init__(self):\n",
    "        super().__init__()\n",
    "        self.main = GradNorm(\n",
    "            nn.Linear(2, 64),\n",
    "            nn.ReLU(),\n",
    "            nn.Linear(64, 1),\n",
    "        )\n",
    "    \n",
    "    def forward(self, x):\n",
    "        return self.main(x)\n",
    "\n",
    "\n",
    "class MultiVariateNormalDataset(torch.utils.data.Dataset):\n",
    "    def __init__(self, rv, n_samples=None):\n",
    "        self.rv = rv\n",
    "        self.n_samples = n_samples\n",
    "        if self.n_samples is not None:\n",
    "            self.samples = []\n",
    "            for _ in range(self.n_samples):\n",
    "                self.samples.append(rv.rvs())\n",
    "    \n",
    "    def __len__(self):\n",
    "        if self.n_samples is not None:\n",
    "            return self.n_samples\n",
    "        else:\n",
    "            return 10000\n",
    "\n",
    "    def __getitem__(self, idx):\n",
    "        if self.n_samples is not None:\n",
    "            return torch.FloatTensor(self.samples[idx])\n",
    "        else:\n",
    "            return torch.FloatTensor(self.rv.rvs())\n",
    "\n",
    "def gp(net_D, x0, x1, center):\n",
    "    t = torch.rand(x1.size(0), 1).to(x1.device)\n",
    "    t = t.expand(x1.size())\n",
    "\n",
    "    interpolates = t * x1 + (1 - t) * x0\n",
    "    interpolates.requires_grad_(True)\n",
    "    disc_interpolates = net_D(interpolates)\n",
    "    grad = torch.autograd.grad(\n",
    "        outputs=disc_interpolates, inputs=interpolates,\n",
    "        grad_outputs=torch.ones_like(disc_interpolates),\n",
    "        create_graph=True, retain_graph=True)[0]\n",
    "\n",
    "    grad_norm = torch.norm(torch.flatten(grad, start_dim=1), dim=1)\n",
    "    loss_gp = torch.mean((grad_norm - center) ** 2)\n",
    "    return loss_gp\n",
    "\n",
    "def infiniteloop(dataloader):\n",
    "    while True:\n",
    "        for x in iter(dataloader):\n",
    "            yield x"
   ]
  },
  {
   "cell_type": "code",
   "execution_count": 47,
   "metadata": {},
   "outputs": [
    {
     "name": "stderr",
     "output_type": "stream",
     "text": [
      "/home/yilun/Desktop/workspace/pytorch-gan-collections/venv/lib/python3.6/site-packages/ipykernel_launcher.py:67: MatplotlibDeprecationWarning: shading='flat' when X and Y have the same dimensions as C is deprecated since 3.3.  Either specify the corners of the quadrilaterals with X and Y, or pass shading='auto', 'nearest' or 'gouraud', or set rcParams['pcolor.shading'].  This will become an error two minor releases later.\n"
     ]
    },
    {
     "data": {
      "image/png": "[encoded data removed]",
      "text/plain": [
       "<Figure size 432x288 with 2 Axes>"
      ]
     },
     "metadata": {
      "needs_background": "light"
     },
     "output_type": "display_data"
    }
   ],
   "source": [
    "def gen_pts(n_pts, rv):\n",
    "    xs, ys, probs = [], [], []\n",
    "    for _ in range(n_pts):\n",
    "        x, y = rv.rvs(size=1)\n",
    "        xs.append(x)\n",
    "        ys.append(y)\n",
    "    return np.array(xs), np.array(ys)\n",
    "\n",
    "n_real_pts = 25\n",
    "n_fake_pts = 50\n",
    "n_grid = 50\n",
    "n_grad_grid = 20\n",
    "\n",
    "mean1 = [2, 2]\n",
    "cov1 = [[5, 4],\n",
    "        [4, 12]]\n",
    "\n",
    "mean2 = [5, 5]\n",
    "cov2 = [[5, 1],\n",
    "        [1, 9]]\n",
    "\n",
    "# mean2 = [5, 4]\n",
    "# cov2 = [[2, 1.1],\n",
    "#         [1.1, 1]]\n",
    "\n",
    "rv1 = multivariate_normal(mean1, cov1)\n",
    "rv2 = multivariate_normal(mean2, cov2)\n",
    "\n",
    "n_samples = 100\n",
    "n_iter = 10000\n",
    "batch_size = 50\n",
    "lr = 0.0005\n",
    "\n",
    "device = 'cuda:0'\n",
    "\n",
    "set_seed(0)\n",
    "dataset0 = MultiVariateNormalDataset(rv1)\n",
    "loader0 = torch.utils.data.DataLoader(dataset0, batch_size=batch_size//2, drop_last=True)\n",
    "dataset1 = MultiVariateNormalDataset(rv2, n_samples=n_samples)\n",
    "loader1 = torch.utils.data.DataLoader(dataset1, batch_size=batch_size//2, shuffle=True, drop_last=True)\n",
    "\n",
    "xs1, ys1 = gen_pts(n_fake_pts, rv1)\n",
    "xs2, ys2 = zip(*np.array(dataset1.samples))\n",
    "select = np.random.permutation(n_samples)[:n_real_pts]\n",
    "xs2 = np.array(xs2)[select]\n",
    "ys2 = np.array(ys2)[select]\n",
    "x_min, x_max = min(xs1.min(), xs2.min()) - 1, max(xs1.max(), xs2.max()) + 1\n",
    "y_min, y_max = min(ys1.min(), ys2.min()) - 1, max(ys1.max(), ys2.max()) + 1\n",
    "\n",
    "xs = np.linspace(x_min, x_max, n_grid)\n",
    "ys = np.linspace(y_min, y_max, n_grid)\n",
    "opt_prob = []\n",
    "for x in xs:\n",
    "    for y in ys:\n",
    "        prob1 = rv1.pdf([x, y])\n",
    "        prob2 = rv2.pdf([x, y])\n",
    "        opt_prob.append(prob2 / (prob1 + prob2))\n",
    "opt_prob = np.array(opt_prob).reshape(n_grid, n_grid)\n",
    "\n",
    "mesh_x, mesh_y = np.meshgrid(xs, ys)\n",
    "cmap = plt.get_cmap('Oranges', 7)\n",
    "\n",
    "grad_xs = np.linspace(x_min, x_max, n_grad_grid)\n",
    "grad_ys = np.linspace(y_min, y_max, n_grad_grid)\n",
    "grad_mesh_x, grad_mesh_y = np.meshgrid(grad_xs, grad_ys)\n",
    "\n",
    "plt.pcolormesh(mesh_x, mesh_y, opt_prob, cmap=cmap, vmin=0, vmax=1)\n",
    "plt.colorbar()\n",
    "plt.scatter(xs1, ys1, marker='o', c='c')\n",
    "plt.scatter(xs2, ys2, marker='x', c='dodgerblue')\n",
    "plt.xticks(np.arange(x_min, x_max, 2.0))\n",
    "plt.yticks(np.arange(y_min, y_max, 2.0))\n",
    "plt.show()"
   ]
  },
  {
   "cell_type": "code",
   "execution_count": 48,
   "metadata": {},
   "outputs": [
    {
     "name": "stderr",
     "output_type": "stream",
     "text": [
      "100%|██████████| 10000/10000 [01:18<00:00, 127.05it/s, loss_D: 0.8633]\n"
     ]
    }
   ],
   "source": [
    "set_seed(0)\n",
    "net = MLP().to(device)\n",
    "optim = torch.optim.Adam(net.parameters(), lr=lr)\n",
    "\n",
    "looper0 = infiniteloop(loader0)\n",
    "looper1 = infiniteloop(loader1)\n",
    "with trange(n_iter) as pbar:\n",
    "    for step in pbar:\n",
    "        fake = next(looper0).to(device)\n",
    "        real = next(looper1).to(device)\n",
    "        pred_real = net(real)\n",
    "        pred_fake = net(fake)\n",
    "#         loss_real = F.relu(1 - pred_real).mean()\n",
    "#         loss_fake = F.relu(1 + pred_fake).mean()\n",
    "        loss_real = F.binary_cross_entropy_with_logits(pred_real, torch.ones_like(pred_real))\n",
    "        loss_fake = F.binary_cross_entropy_with_logits(pred_fake, torch.zeros_like(pred_fake))\n",
    "        \n",
    "        loss_D = loss_real + loss_fake\n",
    "        \n",
    "        optim.zero_grad()\n",
    "        loss_D.backward()\n",
    "        optim.step()\n",
    "        \n",
    "        pbar.set_postfix_str('loss_D: %.4f' % loss_D)"
   ]
  },
  {
   "cell_type": "code",
   "execution_count": 49,
   "metadata": {},
   "outputs": [
    {
     "name": "stderr",
     "output_type": "stream",
     "text": [
      "/home/yilun/Desktop/workspace/pytorch-gan-collections/venv/lib/python3.6/site-packages/ipykernel_launcher.py:9: MatplotlibDeprecationWarning: shading='flat' when X and Y have the same dimensions as C is deprecated since 3.3.  Either specify the corners of the quadrilaterals with X and Y, or pass shading='auto', 'nearest' or 'gouraud', or set rcParams['pcolor.shading'].  This will become an error two minor releases later.\n",
      "  if __name__ == '__main__':\n"
     ]
    },
    {
     "data": {
      "image/png": "[encoded data removed]",
      "text/plain": [
       "<Figure size 432x288 with 2 Axes>"
      ]
     },
     "metadata": {
      "needs_background": "light"
     },
     "output_type": "display_data"
    }
   ],
   "source": [
    "probs = []\n",
    "x = np.stack([mesh_x.reshape(-1), mesh_y.reshape(-1)], axis=1)\n",
    "with torch.no_grad():\n",
    "    probs = (net(torch.FloatTensor(x).to(device)))\n",
    "#     probs = (torch.clamp(probs, -1, 1) + 1) / 2\n",
    "    probs = torch.sigmoid(probs)\n",
    "probs_gan = probs.cpu().numpy().reshape(n_grid, n_grid)\n",
    "\n",
    "plt.pcolormesh(mesh_x, mesh_y, probs_gan, cmap=cmap, vmin=0, vmax=1)\n",
    "plt.colorbar()\n",
    "plt.scatter(xs1, ys1, marker='o', c='c')\n",
    "plt.scatter(xs2, ys2, marker='x', c='violet')\n",
    "plt.xticks(np.arange(x_min, x_max, 2.0))\n",
    "plt.yticks(np.arange(y_min, y_max, 2.0))\n",
    "plt.show()"
   ]
  },
  {
   "cell_type": "code",
   "execution_count": 50,
   "metadata": {},
   "outputs": [
    {
     "name": "stderr",
     "output_type": "stream",
     "text": [
      "100%|██████████| 10000/10000 [01:37<00:00, 102.23it/s, loss_D: 1.0750, loss_gp: 0.0922]\n"
     ]
    }
   ],
   "source": [
    "set_seed(0)\n",
    "alpha = 1\n",
    "net_gp0 = MLP().to(device)\n",
    "optim = torch.optim.Adam(net_gp0.parameters(), lr=lr)\n",
    "\n",
    "looper0 = infiniteloop(loader0)\n",
    "looper1 = infiniteloop(loader1)\n",
    "with trange(n_iter) as pbar:\n",
    "    for step in pbar:\n",
    "        fake = next(looper0).to(device)\n",
    "        real = next(looper1).to(device)\n",
    "        pred_real = net_gp0(real)\n",
    "        pred_fake = net_gp0(fake)\n",
    "#         loss_real = F.relu(1 - pred_real).mean()\n",
    "#         loss_fake = F.relu(1 + pred_fake).mean()\n",
    "        loss_real = F.binary_cross_entropy_with_logits(pred_real, torch.ones_like(pred_real))\n",
    "        loss_fake = F.binary_cross_entropy_with_logits(pred_fake, torch.zeros_like(pred_fake))\n",
    "        \n",
    "        loss_D = loss_real + loss_fake\n",
    "        loss_gp = gp(net_gp0, fake, real, center=0)\n",
    "        loss = loss_D + alpha * loss_gp\n",
    "        \n",
    "        optim.zero_grad()\n",
    "        loss.backward()\n",
    "        optim.step()\n",
    "        \n",
    "        pbar.set_postfix_str('loss_D: %.4f, loss_gp: %.4f' % (loss_D, loss_gp))"
   ]
  },
  {
   "cell_type": "code",
   "execution_count": 51,
   "metadata": {},
   "outputs": [
    {
     "name": "stderr",
     "output_type": "stream",
     "text": [
      "/home/yilun/Desktop/workspace/pytorch-gan-collections/venv/lib/python3.6/site-packages/ipykernel_launcher.py:9: MatplotlibDeprecationWarning: shading='flat' when X and Y have the same dimensions as C is deprecated since 3.3.  Either specify the corners of the quadrilaterals with X and Y, or pass shading='auto', 'nearest' or 'gouraud', or set rcParams['pcolor.shading'].  This will become an error two minor releases later.\n",
      "  if __name__ == '__main__':\n"
     ]
    },
    {
     "data": {
      "image/png": "[encoded data removed]",
      "text/plain": [
       "<Figure size 432x288 with 2 Axes>"
      ]
     },
     "metadata": {
      "needs_background": "light"
     },
     "output_type": "display_data"
    }
   ],
   "source": [
    "probs = []\n",
    "x = np.stack([mesh_x.reshape(-1), mesh_y.reshape(-1)], axis=1)\n",
    "with torch.no_grad():\n",
    "    probs = (net_gp0(torch.FloatTensor(x).to(device)))\n",
    "#     probs = (torch.clamp(probs, -1, 1) + 1) / 2\n",
    "    probs = torch.sigmoid(probs)\n",
    "probs_gp0 = probs.cpu().numpy().reshape(n_grid, n_grid)\n",
    "\n",
    "plt.pcolormesh(mesh_x, mesh_y, probs_gp0, cmap=cmap, vmin=0, vmax=1)\n",
    "plt.colorbar()\n",
    "plt.scatter(xs1, ys1, marker='o', c='c')\n",
    "plt.scatter(xs2, ys2, marker='x', c='violet')\n",
    "plt.xticks(np.arange(x_min, x_max, 2.0))\n",
    "plt.yticks(np.arange(y_min, y_max, 2.0))\n",
    "plt.show()"
   ]
  },
  {
   "cell_type": "code",
   "execution_count": 52,
   "metadata": {},
   "outputs": [
    {
     "name": "stderr",
     "output_type": "stream",
     "text": [
      "100%|██████████| 10000/10000 [01:37<00:00, 102.31it/s, loss_D: 1.0689, loss_gp: 0.0322]\n"
     ]
    }
   ],
   "source": [
    "set_seed(0)\n",
    "alpha = 1\n",
    "net_gp1 = MLP().to(device)\n",
    "optim = torch.optim.Adam(net_gp1.parameters(), lr=lr)\n",
    "\n",
    "looper0 = infiniteloop(loader0)\n",
    "looper1 = infiniteloop(loader1)\n",
    "with trange(n_iter) as pbar:\n",
    "    for step in pbar:\n",
    "        fake = next(looper0).to(device)\n",
    "        real = next(looper1).to(device)\n",
    "        pred_real = net_gp1(real)\n",
    "        pred_fake = net_gp1(fake)\n",
    "#         loss_real = F.relu(1 - pred_real).mean()\n",
    "#         loss_fake = F.relu(1 + pred_fake).mean()\n",
    "        loss_real = F.binary_cross_entropy_with_logits(pred_real, torch.ones_like(pred_real))\n",
    "        loss_fake = F.binary_cross_entropy_with_logits(pred_fake, torch.zeros_like(pred_fake))\n",
    "        \n",
    "        loss_D = loss_real + loss_fake\n",
    "        loss_gp = gp(net_gp1, fake, real, center=1)\n",
    "        loss = loss_D + alpha * loss_gp\n",
    "\n",
    "        optim.zero_grad()\n",
    "        loss.backward()\n",
    "        optim.step()\n",
    "        \n",
    "        pbar.set_postfix_str('loss_D: %.4f, loss_gp: %.4f' % (loss_D, loss_gp))"
   ]
  },
  {
   "cell_type": "code",
   "execution_count": 53,
   "metadata": {},
   "outputs": [
    {
     "name": "stderr",
     "output_type": "stream",
     "text": [
      "/home/yilun/Desktop/workspace/pytorch-gan-collections/venv/lib/python3.6/site-packages/ipykernel_launcher.py:9: MatplotlibDeprecationWarning: shading='flat' when X and Y have the same dimensions as C is deprecated since 3.3.  Either specify the corners of the quadrilaterals with X and Y, or pass shading='auto', 'nearest' or 'gouraud', or set rcParams['pcolor.shading'].  This will become an error two minor releases later.\n",
      "  if __name__ == '__main__':\n"
     ]
    },
    {
     "data": {
      "image/png": "[encoded data removed]",
      "text/plain": [
       "<Figure size 432x288 with 2 Axes>"
      ]
     },
     "metadata": {
      "needs_background": "light"
     },
     "output_type": "display_data"
    }
   ],
   "source": [
    "probs = []\n",
    "x = np.stack([mesh_x.reshape(-1), mesh_y.reshape(-1)], axis=1)\n",
    "with torch.no_grad():\n",
    "    probs = (net_gp1(torch.FloatTensor(x).to(device)))\n",
    "#     probs = (torch.clamp(probs, -1, 1) + 1) / 2\n",
    "    probs = torch.sigmoid(probs)\n",
    "probs_gp1 = probs.cpu().numpy().reshape(n_grid, n_grid)\n",
    "\n",
    "plt.pcolormesh(mesh_x, mesh_y, probs_gp1, cmap=cmap, vmin=0, vmax=1)\n",
    "plt.colorbar()\n",
    "plt.scatter(xs1, ys1, marker='o', c='c')\n",
    "plt.scatter(xs2, ys2, marker='x', c='violet')\n",
    "plt.xticks(np.arange(x_min, x_max, 2.0))\n",
    "plt.yticks(np.arange(y_min, y_max, 2.0))\n",
    "plt.show()"
   ]
  },
  {
   "cell_type": "code",
   "execution_count": 54,
   "metadata": {},
   "outputs": [
    {
     "name": "stderr",
     "output_type": "stream",
     "text": [
      "100%|██████████| 10000/10000 [03:08<00:00, 52.99it/s, loss_D: 0.9151]\n"
     ]
    }
   ],
   "source": [
    "set_seed(0)\n",
    "net_sn = SNMLP().to(device)\n",
    "optim = torch.optim.Adam(net_sn.parameters(), lr=lr)\n",
    "\n",
    "looper0 = infiniteloop(loader0)\n",
    "looper1 = infiniteloop(loader1)\n",
    "loss_fn = nn.BCEWithLogitsLoss()\n",
    "with trange(n_iter) as pbar:\n",
    "    for step in pbar:\n",
    "        fake = next(looper0).to(device)\n",
    "        real = next(looper1).to(device)\n",
    "        pred_real = net_sn(real)\n",
    "        pred_fake = net_sn(fake)\n",
    "#         loss_real = F.relu(1 - pred_real).mean()\n",
    "#         loss_fake = F.relu(1 + pred_fake).mean()\n",
    "        loss_real = F.binary_cross_entropy_with_logits(pred_real, torch.ones_like(pred_real))\n",
    "        loss_fake = F.binary_cross_entropy_with_logits(pred_fake, torch.zeros_like(pred_fake))\n",
    "        \n",
    "        loss_D = loss_real + loss_fake\n",
    "        loss = loss_D\n",
    "        \n",
    "        optim.zero_grad()\n",
    "        loss.backward()\n",
    "        optim.step()\n",
    "        \n",
    "        pbar.set_postfix_str('loss_D: %.4f' % loss_D)"
   ]
  },
  {
   "cell_type": "code",
   "execution_count": 55,
   "metadata": {},
   "outputs": [
    {
     "name": "stderr",
     "output_type": "stream",
     "text": [
      "/home/yilun/Desktop/workspace/pytorch-gan-collections/venv/lib/python3.6/site-packages/ipykernel_launcher.py:9: MatplotlibDeprecationWarning: shading='flat' when X and Y have the same dimensions as C is deprecated since 3.3.  Either specify the corners of the quadrilaterals with X and Y, or pass shading='auto', 'nearest' or 'gouraud', or set rcParams['pcolor.shading'].  This will become an error two minor releases later.\n",
      "  if __name__ == '__main__':\n"
     ]
    },
    {
     "data": {
      "image/png": "[encoded data removed]",
      "text/plain": [
       "<Figure size 432x288 with 2 Axes>"
      ]
     },
     "metadata": {
      "needs_background": "light"
     },
     "output_type": "display_data"
    }
   ],
   "source": [
    "probs = []\n",
    "x = np.stack([mesh_x.reshape(-1), mesh_y.reshape(-1)], axis=1)\n",
    "with torch.no_grad():\n",
    "    probs = (net_sn(torch.FloatTensor(x).to(device)))\n",
    "#     probs = (torch.clamp(probs, -1, 1) + 1) / 2\n",
    "    probs = torch.sigmoid(probs)\n",
    "probs_sn = probs.cpu().numpy().reshape(n_grid, n_grid)\n",
    "\n",
    "plt.pcolormesh(mesh_x, mesh_y, probs_sn, cmap=cmap, vmin=0, vmax=1)\n",
    "plt.colorbar()\n",
    "plt.scatter(xs1, ys1, marker='o', c='c')\n",
    "plt.scatter(xs2, ys2, marker='x', c='b')\n",
    "plt.xticks(np.arange(x_min, x_max, 2.0))\n",
    "plt.yticks(np.arange(y_min, y_max, 2.0))\n",
    "plt.show()"
   ]
  },
  {
   "cell_type": "code",
   "execution_count": 56,
   "metadata": {},
   "outputs": [
    {
     "name": "stderr",
     "output_type": "stream",
     "text": [
      "100%|██████████| 10000/10000 [01:26<00:00, 115.83it/s, loss_D: 1.1492]\n"
     ]
    }
   ],
   "source": [
    "set_seed(0)\n",
    "net_gn = GNMLP().to(device)\n",
    "optim = torch.optim.Adam(net_gn.parameters(), lr=lr)\n",
    "\n",
    "looper0 = infiniteloop(loader0)\n",
    "looper1 = infiniteloop(loader1)\n",
    "with trange(n_iter) as pbar:\n",
    "    for step in pbar:\n",
    "        fake = next(looper0).to(device)\n",
    "        real = next(looper1).to(device)\n",
    "        pred_real = net_gn(real)\n",
    "        pred_fake = net_gn(fake)\n",
    "        loss_real = F.relu(1 - pred_real).mean()\n",
    "        loss_fake = F.relu(1 + pred_fake).mean()\n",
    "#         loss_real = F.binary_cross_entropy_with_logits(pred_real, torch.ones_like(pred_real))\n",
    "#         loss_fake = F.binary_cross_entropy_with_logits(pred_fake, torch.zeros_like(pred_fake))\n",
    "        \n",
    "        loss_D = loss_real + loss_fake\n",
    "        loss = loss_D\n",
    "        \n",
    "        optim.zero_grad()\n",
    "        loss.backward()\n",
    "        optim.step()\n",
    "        \n",
    "        pbar.set_postfix_str('loss_D: %.4f' % loss_D)"
   ]
  },
  {
   "cell_type": "code",
   "execution_count": 57,
   "metadata": {},
   "outputs": [
    {
     "name": "stderr",
     "output_type": "stream",
     "text": [
      "/home/yilun/Desktop/workspace/pytorch-gan-collections/venv/lib/python3.6/site-packages/ipykernel_launcher.py:9: MatplotlibDeprecationWarning: shading='flat' when X and Y have the same dimensions as C is deprecated since 3.3.  Either specify the corners of the quadrilaterals with X and Y, or pass shading='auto', 'nearest' or 'gouraud', or set rcParams['pcolor.shading'].  This will become an error two minor releases later.\n",
      "  if __name__ == '__main__':\n"
     ]
    },
    {
     "data": {
      "image/png": "[encoded data removed]",
      "text/plain": [
       "<Figure size 432x288 with 2 Axes>"
      ]
     },
     "metadata": {
      "needs_background": "light"
     },
     "output_type": "display_data"
    }
   ],
   "source": [
    "probs = []\n",
    "x = np.stack([mesh_x.reshape(-1), mesh_y.reshape(-1)], axis=1)\n",
    "with torch.no_grad():\n",
    "    probs = (net_gn(torch.FloatTensor(x).to(device)))\n",
    "    probs = (torch.clamp(probs, -1, 1) + 1) / 2\n",
    "#     probs = torch.sigmoid(probs)\n",
    "probs_gn = probs.cpu().numpy().reshape(n_grid, n_grid)\n",
    "\n",
    "plt.pcolormesh(mesh_x, mesh_y, probs_gn, cmap=cmap, vmin=0, vmax=1)\n",
    "plt.colorbar()\n",
    "plt.scatter(xs1, ys1, marker='o', c='c')\n",
    "plt.scatter(xs2, ys2, marker='x', c='violet')\n",
    "plt.xticks(np.arange(x_min, x_max, 2.0))\n",
    "plt.yticks(np.arange(y_min, y_max, 2.0))\n",
    "plt.show()"
   ]
  },
  {
   "cell_type": "code",
   "execution_count": 58,
   "metadata": {},
   "outputs": [
    {
     "name": "stderr",
     "output_type": "stream",
     "text": [
      "/home/yilun/Desktop/workspace/pytorch-gan-collections/venv/lib/python3.6/site-packages/ipykernel_launcher.py:13: MatplotlibDeprecationWarning: shading='flat' when X and Y have the same dimensions as C is deprecated since 3.3.  Either specify the corners of the quadrilaterals with X and Y, or pass shading='auto', 'nearest' or 'gouraud', or set rcParams['pcolor.shading'].  This will become an error two minor releases later.\n",
      "  del sys.path[0]\n"
     ]
    },
    {
     "data": {
      "image/png": "[encoded data removed]",
      "text/plain": [
       "<Figure size 1440x144 with 7 Axes>"
      ]
     },
     "metadata": {
      "needs_background": "light"
     },
     "output_type": "display_data"
    }
   ],
   "source": [
    "fig, axs = plt.subplots(1, 6, figsize=(20, 2))\n",
    "\n",
    "probs = [\n",
    "    (opt_prob, '(a)'),\n",
    "    (probs_gan, '(b)'),\n",
    "    (probs_gp0, '(c)'),\n",
    "    (probs_gp1, '(d)'),\n",
    "    (probs_sn, '(e)'),\n",
    "    (probs_gn, '(f)'),\n",
    "]\n",
    "\n",
    "for i, ax in enumerate(axs.flat):\n",
    "    pcm = ax.pcolormesh(mesh_x, mesh_y, probs[i][0], cmap=cmap, vmin=0, vmax=1)\n",
    "    ax.scatter(xs1, ys1, marker='o', c='c', s=2)\n",
    "    ax.scatter(xs2, ys2, marker='x', c='violet', s=2)\n",
    "#     ax.set_xticks(np.arange(x_min, x_max, 2.0))\n",
    "#     ax.set_yticks(np.arange(y_min, y_max, 2.0))\n",
    "    ax.set_xticks([])\n",
    "    ax.set_yticks([])\n",
    "    ax.set_title(probs[i][1], y=-0.25, fontsize=20)\n",
    "fig.colorbar(pcm, ax=axs)\n",
    "plt.show()"
   ]
  },
  {
   "cell_type": "code",
   "execution_count": null,
   "metadata": {},
   "outputs": [],
   "source": [
    "probs = []\n",
    "x = torch.FloatTensor(np.stack([grad_mesh_x.reshape(-1), grad_mesh_y.reshape(-1)], axis=1))\n",
    "x.requires_grad_(True)\n",
    "fx = net_gn(x.to(device))\n",
    "grad_x = torch.autograd.grad(fx, x, torch.ones_like(fx))[0]\n",
    "\n",
    "plt.quiver(grad_mesh_x, grad_mesh_y, grad_x[:, 0].cpu().numpy(), grad_x[:, 1].cpu().numpy(), scale=20)"
   ]
  }
 ],
 "metadata": {
  "kernelspec": {
   "display_name": "Python 3",
   "language": "python",
   "name": "python3"
  },
  "language_info": {
   "codemirror_mode": {
    "name": "ipython",
    "version": 3
   },
   "file_extension": ".py",
   "mimetype": "text/x-python",
   "name": "python",
   "nbconvert_exporter": "python",
   "pygments_lexer": "ipython3",
   "version": "3.6.9"
  }
 },
 "nbformat": 4,
 "nbformat_minor": 4
}
